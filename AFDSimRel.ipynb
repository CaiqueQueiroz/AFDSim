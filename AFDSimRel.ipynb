{
 "cells": [
  {
   "cell_type": "markdown",
   "id": "2fca4e68",
   "metadata": {},
   "source": [
    "Para começar o programa pedimos por meio de entrada pelo teclado os valores que estarão contidos na lista \"E\" que representa a lista de estados do autômato a ser simulado, \"Sigma\" contem o alfabeto aceito para transições do autômato, \"n\" é o numero de transições existentes no altomato. "
   ]
  },
  {
   "cell_type": "code",
   "execution_count": null,
   "id": "b1a811a4",
   "metadata": {},
   "outputs": [],
   "source": [
    "E = [str(x) for x in input(\"\\n Digite os estados\\n\").split() ]\n",
    "Sigma = [str(x) for x in input(\"\\n Digite o alfabeto \\n\").split()]\n",
    "n = int(input(\"Digite o numero de transições\"))"
   ]
  },
  {
   "cell_type": "markdown",
   "id": "e1f2aaf3",
   "metadata": {},
   "source": [
    "Para simular as transições foi usada uma variavel do tipo dicionário chamada \"Delta\" que já se inicia com o estado de erro base para qualquer autômato, em seguida entra em uma estrutura de repetição que se repete \"n\" vezes, definida na variavel \"n\" pelo usuario para captar todas as transições possíveis, as informações são salvas pelas variaveis \"o,c,d\" e seus valores são passadas depois para o dicionário \"Delta\""
   ]
  },
  {
   "cell_type": "code",
   "execution_count": null,
   "id": "5b0b1015",
   "metadata": {},
   "outputs": [],
   "source": [
    "Delta = {'e': 'e'}\n",
    "while ( n != 0):\n",
    "    o, c, d = [str(x) for x in input(\"\\n Digite as transições \\n\").split(',')]\n",
    "    Delta[o, c] = d\n",
    "    n = n - 1"
   ]
  },
  {
   "cell_type": "markdown",
   "id": "a998b518",
   "metadata": {},
   "source": [
    "Em seguida armazenamos o valor do estado inicial na variavel \"i\", os estados finais na variavel \"F\" e a lista de palavras a serem testadas na variavel \"Cadeia\""
   ]
  },
  {
   "cell_type": "code",
   "execution_count": null,
   "id": "33561aad",
   "metadata": {},
   "outputs": [],
   "source": [
    "i = input(\"Digite o estado inicial\")\n",
    "F = [str(x) for x in input(\"\\n Digite os estados finais \\n\").split()]\n",
    "Cadeia = [str(x) for x in input(\"\\n Digite as palavras teste \\n\").split()]"
   ]
  },
  {
   "cell_type": "markdown",
   "id": "4a9fc907",
   "metadata": {},
   "source": [
    "Para finalizar utilizamos a variavel \"EA\" para armazenar o estado atual e a iniciamos com o valor de estado inicial e um contador para ser usado na estrutura de repetição que dura enquanto o valor do contador for menor que o tamanho da lista \"Cadeia\", depois fazemos uma estrutura condicional para verificar se a palavra atual está dentro do alfabeto \"Sigma\", caso verdadeiro realizamos a transição do estado atual, caso falso entramos no estado de erro e saimos da repetição. Por fim após o termino da estrutura de repetição terminar outra condicional é realizada para saber se o estado atual é um estado final, caso seja então a palavra é aceita pelo autômato, caso não seja então é uma palavra que não pode ser aceita pelo mesmo."
   ]
  },
  {
   "cell_type": "code",
   "execution_count": null,
   "id": "18f57483",
   "metadata": {},
   "outputs": [],
   "source": [
    "EA = i\n",
    "ca = 0\n",
    "while (ca < len(Cadeia)):\n",
    "    if Cadeia[ca] in Sigma:\n",
    "        EA = Delta[EA, Cadeia[ca]]\n",
    "    else:\n",
    "        EA = Delta['e']\n",
    "        break\n",
    "    ca = ca + 1\n",
    "if EA in F:\n",
    "    print(\"S\")\n",
    "else:\n",
    "    print(\"N\")"
   ]
  }
 ],
 "metadata": {
  "kernelspec": {
   "display_name": "Python 3 (ipykernel)",
   "language": "python",
   "name": "python3"
  },
  "language_info": {
   "codemirror_mode": {
    "name": "ipython",
    "version": 3
   },
   "file_extension": ".py",
   "mimetype": "text/x-python",
   "name": "python",
   "nbconvert_exporter": "python",
   "pygments_lexer": "ipython3",
   "version": "3.10.0"
  }
 },
 "nbformat": 4,
 "nbformat_minor": 5
}
